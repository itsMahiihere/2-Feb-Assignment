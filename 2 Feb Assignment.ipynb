{
 "cells": [
  {
   "cell_type": "code",
   "execution_count": null,
   "id": "cf063b88-99ce-4dd8-8f07-ba3296379fb3",
   "metadata": {},
   "outputs": [],
   "source": [
    "# Q1. Ans:-"
   ]
  },
  {
   "cell_type": "code",
   "execution_count": null,
   "id": "f9e34869-a04d-4a01-8c60-438d8fac53c5",
   "metadata": {},
   "outputs": [],
   "source": [
    "The for loop is used when we already know the number of iterations,\n",
    "which means when we know how many times a statement has to be executed."
   ]
  },
  {
   "cell_type": "code",
   "execution_count": null,
   "id": "22bee272-738e-40e3-adce-d2897aea2b9b",
   "metadata": {},
   "outputs": [],
   "source": [
    "# Example:-"
   ]
  },
  {
   "cell_type": "code",
   "execution_count": 1,
   "id": "bd573d0d-f8f1-418e-b171-ef4a2fef6faa",
   "metadata": {},
   "outputs": [
    {
     "name": "stdout",
     "output_type": "stream",
     "text": [
      "math\n",
      "bio\n",
      "science\n",
      "english\n"
     ]
    }
   ],
   "source": [
    "subject=['math','bio','science','english']\n",
    "for i in subject:\n",
    "    print(i)"
   ]
  },
  {
   "cell_type": "code",
   "execution_count": null,
   "id": "d0a4251a-14b7-4a0e-a010-b64e13b3153d",
   "metadata": {},
   "outputs": [],
   "source": [
    "With the while loop we can execute a set of statements as long as a condition is true."
   ]
  },
  {
   "cell_type": "code",
   "execution_count": null,
   "id": "0138c9b6-25e1-4566-9fc5-430a202265e4",
   "metadata": {},
   "outputs": [],
   "source": [
    "# Example:-"
   ]
  },
  {
   "cell_type": "code",
   "execution_count": 2,
   "id": "110cd4ca-9e6d-41d5-95ab-c3a760fdfab1",
   "metadata": {},
   "outputs": [
    {
     "name": "stdout",
     "output_type": "stream",
     "text": [
      "1\n",
      "2\n",
      "3\n",
      "4\n"
     ]
    }
   ],
   "source": [
    "Num=1\n",
    "while Num<5:\n",
    "    print(Num)\n",
    "    Num+=1"
   ]
  },
  {
   "cell_type": "code",
   "execution_count": null,
   "id": "cafed042-c5ab-4d96-a54a-4fec441bd299",
   "metadata": {},
   "outputs": [],
   "source": [
    "# Q2. Ans:-"
   ]
  },
  {
   "cell_type": "code",
   "execution_count": 3,
   "id": "8793cff3-b3a9-4b4b-95f2-a36bd85cd5ac",
   "metadata": {},
   "outputs": [
    {
     "name": "stdout",
     "output_type": "stream",
     "text": [
      "\n",
      "Sum = 55\n",
      "\n",
      "Product = 3628800\n"
     ]
    }
   ],
   "source": [
    "# Program for printing sum and product of first 10 natural number\n",
    "sum = 0\n",
    "num = 1\n",
    "product=1\n",
    "while num<=10:\n",
    "  sum = sum+num\n",
    "  product= product*num\n",
    "  num = num+1\n",
    "\n",
    "print(\"\\nSum =\", sum) \n",
    "print(\"\\nProduct =\", product)"
   ]
  },
  {
   "cell_type": "code",
   "execution_count": null,
   "id": "408fac6a-5d96-4407-bfdc-a2f13435df6d",
   "metadata": {},
   "outputs": [],
   "source": [
    "# Q3. Ans:-"
   ]
  },
  {
   "cell_type": "code",
   "execution_count": 4,
   "id": "b01e413e-f836-471d-aeb3-da4699b1b3f0",
   "metadata": {},
   "outputs": [
    {
     "name": "stdin",
     "output_type": "stream",
     "text": [
      "Enter the unit consumed by user 100\n"
     ]
    },
    {
     "name": "stdout",
     "output_type": "stream",
     "text": [
      "\n",
      " electricity_bill for first 100 unit in Rs=  450.0\n"
     ]
    }
   ],
   "source": [
    "# program to compute the electricity bill for a household\n",
    "electricity_bill=0\n",
    "Unit=int(input(\"Enter the unit consumed by user\"))\n",
    "if Unit<=100:\n",
    "    electricity_bill=Unit*4.5\n",
    "    print(\"\\n electricity_bill for first 100 unit in Rs= \",electricity_bill)\n",
    "elif 100<Unit<=200:\n",
    "    electricity_bill=Unit*6\n",
    "    print(\"\\n electricity_bill for 200 unit in Rs= \",electricity_bill)\n",
    "elif 200<Unit<=300:\n",
    "    electricity_bill=Unit*10\n",
    "    print(\"\\n electricity_bill for 300 unit in Rs= \",electricity_bill)\n",
    "elif 300<Unit:\n",
    "    electricity_bill=Unit*20\n",
    "    print(\"\\n electricity_bill for above 300 unit in Rs= \",electricity_bill)  "
   ]
  },
  {
   "cell_type": "code",
   "execution_count": null,
   "id": "70444a4b-2c5b-406f-9714-beddd66e3a9c",
   "metadata": {},
   "outputs": [],
   "source": [
    "# Q4. Ans:-"
   ]
  },
  {
   "cell_type": "code",
   "execution_count": 5,
   "id": "5fd7781a-f4d5-4548-a553-33c62a011eef",
   "metadata": {},
   "outputs": [
    {
     "name": "stdout",
     "output_type": "stream",
     "text": [
      "The numbers whose cube is divisible by 4 or 5: [2, 4, 5, 6, 8, 10, 12, 14, 15, 16, 18, 20, 22, 24, 25, 26, 28, 30, 32, 34, 35, 36, 38, 40, 42, 44, 45, 46, 48, 50, 52, 54, 55, 56, 58, 60, 62, 64, 65, 66, 68, 70, 72, 74, 75, 76, 78, 80, 82, 84, 85, 86, 88, 90, 92, 94, 95, 96, 98, 100]\n"
     ]
    }
   ],
   "source": [
    "# Using for loop\n",
    "cube_list = []\n",
    "for i in range(1, 101):\n",
    "  cube = i**3\n",
    "  if cube % 4 == 0 or cube % 5 == 0:\n",
    "    cube_list.append(i)\n",
    "\n",
    "print(\"The numbers whose cube is divisible by 4 or 5:\", cube_list)"
   ]
  },
  {
   "cell_type": "code",
   "execution_count": 6,
   "id": "9e4534b9-59ab-4298-ae0b-e7e303c21523",
   "metadata": {},
   "outputs": [
    {
     "name": "stdout",
     "output_type": "stream",
     "text": [
      "The numbers whose cube is divisible by 4 or 5: [2, 4, 5, 6, 8, 10, 12, 14, 15, 16, 18, 20, 22, 24, 25, 26, 28, 30, 32, 34, 35, 36, 38, 40, 42, 44, 45, 46, 48, 50, 52, 54, 55, 56, 58, 60, 62, 64, 65, 66, 68, 70, 72, 74, 75, 76, 78, 80, 82, 84, 85, 86, 88, 90, 92, 94, 95, 96, 98, 100]\n"
     ]
    }
   ],
   "source": [
    "# Using while loop\n",
    "cube_list = []\n",
    "i = 1\n",
    "while i <= 100:\n",
    "  cube = i**3\n",
    "  if cube % 4 == 0 or cube % 5 == 0:\n",
    "    cube_list.append(i)\n",
    "  i += 1\n",
    "\n",
    "print(\"The numbers whose cube is divisible by 4 or 5:\", cube_list)"
   ]
  },
  {
   "cell_type": "code",
   "execution_count": null,
   "id": "986753f3-a6a8-4b22-87e7-4c06664f6035",
   "metadata": {},
   "outputs": [],
   "source": [
    "# Q5. Ans:-"
   ]
  },
  {
   "cell_type": "code",
   "execution_count": 7,
   "id": "531ad468-6315-45ab-a06a-25af80ca2c7b",
   "metadata": {},
   "outputs": [
    {
     "name": "stdout",
     "output_type": "stream",
     "text": [
      "The number of vowels in the string is: 12\n"
     ]
    }
   ],
   "source": [
    "def count_vowels(string):\n",
    "  vowels = \"aeiouAEIOU\"\n",
    "  count = 0\n",
    "  for i in string:\n",
    "    if i in vowels:\n",
    "      count =count+1\n",
    "  return count\n",
    "\n",
    "string = \"I want to become a data scientist\"\n",
    "print(\"The number of vowels in the string is:\", count_vowels(string))"
   ]
  }
 ],
 "metadata": {
  "kernelspec": {
   "display_name": "Python 3 (ipykernel)",
   "language": "python",
   "name": "python3"
  },
  "language_info": {
   "codemirror_mode": {
    "name": "ipython",
    "version": 3
   },
   "file_extension": ".py",
   "mimetype": "text/x-python",
   "name": "python",
   "nbconvert_exporter": "python",
   "pygments_lexer": "ipython3",
   "version": "3.10.8"
  }
 },
 "nbformat": 4,
 "nbformat_minor": 5
}
